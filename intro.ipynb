{
 "cells": [
  {
   "cell_type": "code",
   "execution_count": 1,
   "id": "0535e893-10d9-459a-9884-2cf7e81f40cc",
   "metadata": {},
   "outputs": [],
   "source": [
    "import os\n",
    "\n",
    "os.environ['OPENAI_API_KEY'] = \"\""
   ]
  },
  {
   "cell_type": "code",
   "execution_count": 3,
   "id": "d6a5ca71-8e29-4533-8f29-b8eff6d02616",
   "metadata": {},
   "outputs": [],
   "source": [
    "from llama_index.llms.openai import OpenAI\n",
    "from llama_index.core import VectorStoreIndex,SimpleDirectoryReader\n",
    "from IPython.display import Markdown, display"
   ]
  },
  {
   "cell_type": "code",
   "execution_count": 8,
   "id": "faa0a6a7-b1ed-4116-a065-60b4fb9fb28b",
   "metadata": {},
   "outputs": [
    {
     "name": "stderr",
     "output_type": "stream",
     "text": [
      "--2024-04-24 17:58:41--  https://arxiv.org/pdf/1706.03762.pdf\n",
      "Resolving arxiv.org (arxiv.org)... 151.101.3.42, 151.101.195.42, 151.101.67.42, ...\n",
      "Connecting to arxiv.org (arxiv.org)|151.101.3.42|:443... connected.\n",
      "HTTP request sent, awaiting response... "
     ]
    },
    {
     "name": "stdout",
     "output_type": "stream",
     "text": [
      "PDF downloaded successfully to data\n",
      "PDF renamed to attention-is-all-you-need.pdf\n"
     ]
    },
    {
     "name": "stderr",
     "output_type": "stream",
     "text": [
      "200 OK\n",
      "Length: 2215244 (2.1M) [application/pdf]\n",
      "Saving to: ‘data/1706.03762.pdf’\n",
      "\n",
      "     0K .......... .......... .......... .......... ..........  2% 1.50M 1s\n",
      "    50K .......... .......... .......... .......... ..........  4% 2.71M 1s\n",
      "   100K .......... .......... .......... .......... ..........  6% 3.91M 1s\n",
      "   150K .......... .......... .......... .......... ..........  9% 42.7M 1s\n",
      "   200K .......... .......... .......... .......... .......... 11% 4.05M 1s\n",
      "   250K .......... .......... .......... .......... .......... 13% 3.76M 1s\n",
      "   300K .......... .......... .......... .......... .......... 16% 14.5M 0s\n",
      "   350K .......... .......... .......... .......... .......... 18% 6.18M 0s\n",
      "   400K .......... .......... .......... .......... .......... 20% 51.0M 0s\n",
      "   450K .......... .......... .......... .......... .......... 23%  228M 0s\n",
      "   500K .......... .......... .......... .......... .......... 25%  159M 0s\n",
      "   550K .......... .......... .......... .......... .......... 27% 5.25M 0s\n",
      "   600K .......... .......... .......... .......... .......... 30% 3.01M 0s\n",
      "   650K .......... .......... .......... .......... .......... 32% 19.4M 0s\n",
      "   700K .......... .......... .......... .......... .......... 34%  140M 0s\n",
      "   750K .......... .......... .......... .......... .......... 36% 6.39M 0s\n",
      "   800K .......... .......... .......... .......... .......... 39%  174M 0s\n",
      "   850K .......... .......... .......... .......... .......... 41% 27.7M 0s\n",
      "   900K .......... .......... .......... .......... .......... 43%  173M 0s\n",
      "   950K .......... .......... .......... .......... .......... 46%  212M 0s\n",
      "  1000K .......... .......... .......... .......... .......... 48% 59.9M 0s\n",
      "  1050K .......... .......... .......... .......... .......... 50%  184M 0s\n",
      "  1100K .......... .......... .......... .......... .......... 53% 23.6M 0s\n",
      "  1150K .......... .......... .......... .......... .......... 55%  184M 0s\n",
      "  1200K .......... .......... .......... .......... .......... 57%  249M 0s\n",
      "  1250K .......... .......... .......... .......... .......... 60% 54.3M 0s\n",
      "  1300K .......... .......... .......... .......... .......... 62% 1.58M 0s\n",
      "  1350K .......... .......... .......... .......... .......... 64%  203M 0s\n",
      "  1400K .......... .......... .......... .......... .......... 67% 72.8M 0s\n",
      "  1450K .......... .......... .......... .......... .......... 69% 81.2M 0s\n",
      "  1500K .......... .......... .......... .......... .......... 71% 90.4M 0s\n",
      "  1550K .......... .......... .......... .......... .......... 73% 12.8M 0s\n",
      "  1600K .......... .......... .......... .......... .......... 76%  123M 0s\n",
      "  1650K .......... .......... .......... .......... .......... 78% 96.3M 0s\n",
      "  1700K .......... .......... .......... .......... .......... 80%  245M 0s\n",
      "  1750K .......... .......... .......... .......... .......... 83%  132M 0s\n",
      "  1800K .......... .......... .......... .......... .......... 85% 43.6M 0s\n",
      "  1850K .......... .......... .......... .......... .......... 87%  238M 0s\n",
      "  1900K .......... .......... .......... .......... .......... 90% 26.3M 0s\n",
      "  1950K .......... .......... .......... .......... .......... 92%  203M 0s\n",
      "  2000K .......... .......... .......... .......... .......... 94%  150M 0s\n",
      "  2050K .......... .......... .......... .......... .......... 97% 72.1M 0s\n",
      "  2100K .......... .......... .......... .......... .......... 99%  153M 0s\n",
      "  2150K .......... ...                                        100%  118M=0.2s\n",
      "\n",
      "2024-04-24 17:58:41 (11.2 MB/s) - ‘data/1706.03762.pdf’ saved [2215244/2215244]\n",
      "\n"
     ]
    }
   ],
   "source": [
    "import os\n",
    "import subprocess\n",
    "\n",
    "# specify url\n",
    "pdf_url = \"https://arxiv.org/pdf/1706.03762.pdf\"\n",
    "\n",
    "# specify dir\n",
    "download_dir = \"data\"\n",
    "\n",
    "# specify name\n",
    "new_filename = \"attention-is-all-you-need.pdf\"\n",
    "\n",
    "# create directory if it does not exist\n",
    "if not os.path.exists(download_dir):\n",
    "    os.makedirs(download_dir)\n",
    "\n",
    "# use wget to download the PDF file into the directory\n",
    "command = f\"wget -P {download_dir} {pdf_url}\"\n",
    "\n",
    "# execute the wget command using subprocess\n",
    "try:\n",
    "    subprocess.run(command, shell=True, check=True)\n",
    "    print(f\"PDF downloaded successfully to {download_dir}\")\n",
    "\n",
    "    # Rename the downloaded file to the desired name\n",
    "    old_filepath = os.path.join(download_dir, os.path.basename(pdf_url))\n",
    "    new_filepath = os.path.join(download_dir, new_filename)\n",
    "    os.rename(old_filepath, new_filepath)\n",
    "    print(f\"PDF renamed to {new_filename}\")\n",
    "except subprocess.CalledProcessError as e:\n",
    "    print(f\"Error: {e}\")"
   ]
  },
  {
   "cell_type": "code",
   "execution_count": 9,
   "id": "d1a012a8-35ac-4ffe-bd3a-6705b8f5337e",
   "metadata": {},
   "outputs": [
    {
     "name": "stdout",
     "output_type": "stream",
     "text": [
      "Requirement already satisfied: pypdf in /opt/miniconda3/envs/cs573final/lib/python3.12/site-packages (4.2.0)\n"
     ]
    }
   ],
   "source": [
    "!pip install pypdf"
   ]
  },
  {
   "cell_type": "markdown",
   "id": "446fc532-c5a6-442a-9fd7-c68de167fed1",
   "metadata": {},
   "source": [
    "# Load documents and build index"
   ]
  },
  {
   "cell_type": "code",
   "execution_count": 10,
   "id": "0fccf89e-55f2-4a4f-a813-a237f9792c6d",
   "metadata": {},
   "outputs": [],
   "source": [
    "# document loader\n",
    "documents = SimpleDirectoryReader(\"data\").load_data()"
   ]
  },
  {
   "cell_type": "code",
   "execution_count": 11,
   "id": "459c7a74-8dba-4718-ba10-e87b961da3be",
   "metadata": {},
   "outputs": [
    {
     "data": {
      "text/plain": [
       "15"
      ]
     },
     "execution_count": 11,
     "metadata": {},
     "output_type": "execute_result"
    }
   ],
   "source": [
    "len(documents)"
   ]
  },
  {
   "cell_type": "code",
   "execution_count": 12,
   "id": "f2d7e253-01e7-4c19-840c-a0ecbf034117",
   "metadata": {},
   "outputs": [
    {
     "data": {
      "text/plain": [
       "Document(id_='1420c07f-ffd7-44e1-85ec-070b6a9650f0', embedding=None, metadata={'page_label': '1', 'file_name': 'attention-is-all-you-need.pdf', 'file_path': '/Users/avivnur/code/cs573/grad_final/cqa-project/data/attention-is-all-you-need.pdf', 'file_type': 'application/pdf', 'file_size': 2215244, 'creation_date': '2024-04-24', 'last_modified_date': '2024-04-10'}, excluded_embed_metadata_keys=['file_name', 'file_type', 'file_size', 'creation_date', 'last_modified_date', 'last_accessed_date'], excluded_llm_metadata_keys=['file_name', 'file_type', 'file_size', 'creation_date', 'last_modified_date', 'last_accessed_date'], relationships={}, text='Provided proper attribution is provided, Google hereby grants permission to\\nreproduce the tables and figures in this paper solely for use in journalistic or\\nscholarly works.\\nAttention Is All You Need\\nAshish Vaswani∗\\nGoogle Brain\\navaswani@google.comNoam Shazeer∗\\nGoogle Brain\\nnoam@google.comNiki Parmar∗\\nGoogle Research\\nnikip@google.comJakob Uszkoreit∗\\nGoogle Research\\nusz@google.com\\nLlion Jones∗\\nGoogle Research\\nllion@google.comAidan N. Gomez∗ †\\nUniversity of Toronto\\naidan@cs.toronto.eduŁukasz Kaiser∗\\nGoogle Brain\\nlukaszkaiser@google.com\\nIllia Polosukhin∗ ‡\\nillia.polosukhin@gmail.com\\nAbstract\\nThe dominant sequence transduction models are based on complex recurrent or\\nconvolutional neural networks that include an encoder and a decoder. The best\\nperforming models also connect the encoder and decoder through an attention\\nmechanism. We propose a new simple network architecture, the Transformer,\\nbased solely on attention mechanisms, dispensing with recurrence and convolutions\\nentirely. Experiments on two machine translation tasks show these models to\\nbe superior in quality while being more parallelizable and requiring significantly\\nless time to train. Our model achieves 28.4 BLEU on the WMT 2014 English-\\nto-German translation task, improving over the existing best results, including\\nensembles, by over 2 BLEU. On the WMT 2014 English-to-French translation task,\\nour model establishes a new single-model state-of-the-art BLEU score of 41.8 after\\ntraining for 3.5 days on eight GPUs, a small fraction of the training costs of the\\nbest models from the literature. We show that the Transformer generalizes well to\\nother tasks by applying it successfully to English constituency parsing both with\\nlarge and limited training data.\\n∗Equal contribution. Listing order is random. Jakob proposed replacing RNNs with self-attention and started\\nthe effort to evaluate this idea. Ashish, with Illia, designed and implemented the first Transformer models and\\nhas been crucially involved in every aspect of this work. Noam proposed scaled dot-product attention, multi-head\\nattention and the parameter-free position representation and became the other person involved in nearly every\\ndetail. Niki designed, implemented, tuned and evaluated countless model variants in our original codebase and\\ntensor2tensor. Llion also experimented with novel model variants, was responsible for our initial codebase, and\\nefficient inference and visualizations. Lukasz and Aidan spent countless long days designing various parts of and\\nimplementing tensor2tensor, replacing our earlier codebase, greatly improving results and massively accelerating\\nour research.\\n†Work performed while at Google Brain.\\n‡Work performed while at Google Research.\\n31st Conference on Neural Information Processing Systems (NIPS 2017), Long Beach, CA, USA.arXiv:1706.03762v7  [cs.CL]  2 Aug 2023', start_char_idx=None, end_char_idx=None, text_template='{metadata_str}\\n\\n{content}', metadata_template='{key}: {value}', metadata_seperator='\\n')"
      ]
     },
     "execution_count": 12,
     "metadata": {},
     "output_type": "execute_result"
    }
   ],
   "source": [
    "documents[0]"
   ]
  },
  {
   "cell_type": "code",
   "execution_count": 13,
   "id": "11c12488-3cdb-4dbf-b89e-5a0fcddcdc1f",
   "metadata": {},
   "outputs": [],
   "source": [
    "# build index\n",
    "index = VectorStoreIndex.from_documents(documents)"
   ]
  },
  {
   "cell_type": "markdown",
   "id": "b45ccb63-6c8b-4cd1-8a13-ee24b5b89062",
   "metadata": {},
   "source": [
    "# Query"
   ]
  },
  {
   "cell_type": "code",
   "execution_count": 14,
   "id": "5de714b9-1b75-4d22-9272-25421b19ad29",
   "metadata": {},
   "outputs": [],
   "source": [
    "query_engine = index.as_query_engine()"
   ]
  },
  {
   "cell_type": "code",
   "execution_count": 15,
   "id": "6b1fa66d-7e5c-47b9-a28d-cc9f5c47d239",
   "metadata": {},
   "outputs": [],
   "source": [
    "response = query_engine.query(\"What is the paper about?\")"
   ]
  },
  {
   "cell_type": "code",
   "execution_count": 16,
   "id": "667d797c-39c0-48b8-97c6-8d29cf3636a9",
   "metadata": {},
   "outputs": [
    {
     "data": {
      "text/plain": [
       "Response(response='The paper is about a model called \"attention is all you need\" that focuses on attention mechanisms in neural networks, particularly in the context of natural language processing tasks.', source_nodes=[NodeWithScore(node=TextNode(id_='27af2aab-c09a-4a86-9886-e1e424648e31', embedding=None, metadata={'page_label': '15', 'file_name': 'attention-is-all-you-need.pdf', 'file_path': '/Users/avivnur/code/cs573/grad_final/cqa-project/data/attention-is-all-you-need.pdf', 'file_type': 'application/pdf', 'file_size': 2215244, 'creation_date': '2024-04-24', 'last_modified_date': '2024-04-10'}, excluded_embed_metadata_keys=['file_name', 'file_type', 'file_size', 'creation_date', 'last_modified_date', 'last_accessed_date'], excluded_llm_metadata_keys=['file_name', 'file_type', 'file_size', 'creation_date', 'last_modified_date', 'last_accessed_date'], relationships={<NodeRelationship.SOURCE: '1'>: RelatedNodeInfo(node_id='b6d69263-9152-4d20-a477-1905d9a4b279', node_type=<ObjectType.DOCUMENT: '4'>, metadata={'page_label': '15', 'file_name': 'attention-is-all-you-need.pdf', 'file_path': '/Users/avivnur/code/cs573/grad_final/cqa-project/data/attention-is-all-you-need.pdf', 'file_type': 'application/pdf', 'file_size': 2215244, 'creation_date': '2024-04-24', 'last_modified_date': '2024-04-10'}, hash='06ceb30d91cd5b3b36da64f0c5a260069677bcd61e9362d765aeadf7a9966060'), <NodeRelationship.PREVIOUS: '2'>: RelatedNodeInfo(node_id='38f0f221-69a7-4c1a-9414-333ecc5188a2', node_type=<ObjectType.TEXT: '1'>, metadata={'page_label': '14', 'file_name': 'attention-is-all-you-need.pdf', 'file_path': '/Users/avivnur/code/cs573/grad_final/cqa-project/data/attention-is-all-you-need.pdf', 'file_type': 'application/pdf', 'file_size': 2215244, 'creation_date': '2024-04-24', 'last_modified_date': '2024-04-10'}, hash='c07b74f224e19689793fd1b68c8c5e39c101bac227893a7aad24f67efad5a0f1')}, text='Input-Input Layer5\\nThe\\nLaw\\nwill\\nnever\\nbe\\nperfect\\n,\\nbut\\nits\\napplication\\nshould\\nbe\\njust\\n-\\nthis\\nis\\nwhat\\nwe\\nare\\nmissing\\n,\\nin\\nmy\\nopinion\\n.\\n<EOS>\\n<pad>\\nThe\\nLaw\\nwill\\nnever\\nbe\\nperfect\\n,\\nbut\\nits\\napplication\\nshould\\nbe\\njust\\n-\\nthis\\nis\\nwhat\\nwe\\nare\\nmissing\\n,\\nin\\nmy\\nopinion\\n.\\n<EOS>\\n<pad>\\nInput-Input Layer5\\nThe\\nLaw\\nwill\\nnever\\nbe\\nperfect\\n,\\nbut\\nits\\napplication\\nshould\\nbe\\njust\\n-\\nthis\\nis\\nwhat\\nwe\\nare\\nmissing\\n,\\nin\\nmy\\nopinion\\n.\\n<EOS>\\n<pad>\\nThe\\nLaw\\nwill\\nnever\\nbe\\nperfect\\n,\\nbut\\nits\\napplication\\nshould\\nbe\\njust\\n-\\nthis\\nis\\nwhat\\nwe\\nare\\nmissing\\n,\\nin\\nmy\\nopinion\\n.\\n<EOS>\\n<pad>Figure 5: Many of the attention heads exhibit behaviour that seems related to the structure of the\\nsentence. We give two such examples above, from two different heads from the encoder self-attention\\nat layer 5 of 6. The heads clearly learned to perform different tasks.\\n15', start_char_idx=0, end_char_idx=817, text_template='{metadata_str}\\n\\n{content}', metadata_template='{key}: {value}', metadata_seperator='\\n'), score=0.7629105506565071), NodeWithScore(node=TextNode(id_='38f0f221-69a7-4c1a-9414-333ecc5188a2', embedding=None, metadata={'page_label': '14', 'file_name': 'attention-is-all-you-need.pdf', 'file_path': '/Users/avivnur/code/cs573/grad_final/cqa-project/data/attention-is-all-you-need.pdf', 'file_type': 'application/pdf', 'file_size': 2215244, 'creation_date': '2024-04-24', 'last_modified_date': '2024-04-10'}, excluded_embed_metadata_keys=['file_name', 'file_type', 'file_size', 'creation_date', 'last_modified_date', 'last_accessed_date'], excluded_llm_metadata_keys=['file_name', 'file_type', 'file_size', 'creation_date', 'last_modified_date', 'last_accessed_date'], relationships={<NodeRelationship.SOURCE: '1'>: RelatedNodeInfo(node_id='22a85ec5-b64f-4ffe-98a2-4d1facf38454', node_type=<ObjectType.DOCUMENT: '4'>, metadata={'page_label': '14', 'file_name': 'attention-is-all-you-need.pdf', 'file_path': '/Users/avivnur/code/cs573/grad_final/cqa-project/data/attention-is-all-you-need.pdf', 'file_type': 'application/pdf', 'file_size': 2215244, 'creation_date': '2024-04-24', 'last_modified_date': '2024-04-10'}, hash='c07b74f224e19689793fd1b68c8c5e39c101bac227893a7aad24f67efad5a0f1'), <NodeRelationship.PREVIOUS: '2'>: RelatedNodeInfo(node_id='4348801c-d143-4f95-8e06-2650b9d56aab', node_type=<ObjectType.TEXT: '1'>, metadata={'page_label': '13', 'file_name': 'attention-is-all-you-need.pdf', 'file_path': '/Users/avivnur/code/cs573/grad_final/cqa-project/data/attention-is-all-you-need.pdf', 'file_type': 'application/pdf', 'file_size': 2215244, 'creation_date': '2024-04-24', 'last_modified_date': '2024-04-10'}, hash='82f5e822b56cc0ac32db32bf067cbcc2c3db56ba0fc568a7e6478275780ab20d'), <NodeRelationship.NEXT: '3'>: RelatedNodeInfo(node_id='27af2aab-c09a-4a86-9886-e1e424648e31', node_type=<ObjectType.TEXT: '1'>, metadata={}, hash='da966f9b328bdeb0efb2e1dd46ae40b06b97f7878e2d931ba2ba77cf7039f059')}, text='Input-Input Layer5\\nThe\\nLaw\\nwill\\nnever\\nbe\\nperfect\\n,\\nbut\\nits\\napplication\\nshould\\nbe\\njust\\n-\\nthis\\nis\\nwhat\\nwe\\nare\\nmissing\\n,\\nin\\nmy\\nopinion\\n.\\n<EOS>\\n<pad>\\nThe\\nLaw\\nwill\\nnever\\nbe\\nperfect\\n,\\nbut\\nits\\napplication\\nshould\\nbe\\njust\\n-\\nthis\\nis\\nwhat\\nwe\\nare\\nmissing\\n,\\nin\\nmy\\nopinion\\n.\\n<EOS>\\n<pad>\\nInput-Input Layer5\\nThe\\nLaw\\nwill\\nnever\\nbe\\nperfect\\n,\\nbut\\nits\\napplication\\nshould\\nbe\\njust\\n-\\nthis\\nis\\nwhat\\nwe\\nare\\nmissing\\n,\\nin\\nmy\\nopinion\\n.\\n<EOS>\\n<pad>\\nThe\\nLaw\\nwill\\nnever\\nbe\\nperfect\\n,\\nbut\\nits\\napplication\\nshould\\nbe\\njust\\n-\\nthis\\nis\\nwhat\\nwe\\nare\\nmissing\\n,\\nin\\nmy\\nopinion\\n.\\n<EOS>\\n<pad>Figure 4: Two attention heads, also in layer 5 of 6, apparently involved in anaphora resolution. Top:\\nFull attentions for head 5. Bottom: Isolated attentions from just the word ‘its’ for attention heads 5\\nand 6. Note that the attentions are very sharp for this word.\\n14', start_char_idx=0, end_char_idx=814, text_template='{metadata_str}\\n\\n{content}', metadata_template='{key}: {value}', metadata_seperator='\\n'), score=0.7626280122624599)], metadata={'27af2aab-c09a-4a86-9886-e1e424648e31': {'page_label': '15', 'file_name': 'attention-is-all-you-need.pdf', 'file_path': '/Users/avivnur/code/cs573/grad_final/cqa-project/data/attention-is-all-you-need.pdf', 'file_type': 'application/pdf', 'file_size': 2215244, 'creation_date': '2024-04-24', 'last_modified_date': '2024-04-10'}, '38f0f221-69a7-4c1a-9414-333ecc5188a2': {'page_label': '14', 'file_name': 'attention-is-all-you-need.pdf', 'file_path': '/Users/avivnur/code/cs573/grad_final/cqa-project/data/attention-is-all-you-need.pdf', 'file_type': 'application/pdf', 'file_size': 2215244, 'creation_date': '2024-04-24', 'last_modified_date': '2024-04-10'}})"
      ]
     },
     "execution_count": 16,
     "metadata": {},
     "output_type": "execute_result"
    }
   ],
   "source": [
    "response"
   ]
  },
  {
   "cell_type": "code",
   "execution_count": 17,
   "id": "6894289e-584c-4bd9-9553-dd236cede6fe",
   "metadata": {},
   "outputs": [
    {
     "data": {
      "text/markdown": [
       "<b>The paper is about a model called \"attention is all you need\" that focuses on attention mechanisms in neural networks, particularly in the context of natural language processing tasks.</b>"
      ],
      "text/plain": [
       "<IPython.core.display.Markdown object>"
      ]
     },
     "metadata": {},
     "output_type": "display_data"
    }
   ],
   "source": [
    "display(Markdown(f\"<b>{response}</b>\"))"
   ]
  },
  {
   "cell_type": "markdown",
   "id": "23d331e7-2886-475e-864a-5a7a97fe83b8",
   "metadata": {},
   "source": [
    "# Storing and Loading the index"
   ]
  },
  {
   "cell_type": "code",
   "execution_count": 18,
   "id": "acad0ad2-ff11-4ea0-aa49-6a8a1fcd261a",
   "metadata": {},
   "outputs": [],
   "source": [
    "index.storage_context.persist()"
   ]
  },
  {
   "cell_type": "code",
   "execution_count": 19,
   "id": "a582c073-0be5-4951-ac05-6de0f8c97b68",
   "metadata": {},
   "outputs": [],
   "source": [
    "from llama_index.core import StorageContext, load_index_from_storage\n",
    "\n",
    "storage_context = StorageContext.from_defaults(persist_dir=\"./storage\")\n",
    "index = load_index_from_storage(storage_context=storage_context)"
   ]
  },
  {
   "cell_type": "markdown",
   "id": "e2b7c4a6-aeb1-4846-b7aa-43ee46135c5d",
   "metadata": {},
   "source": [
    "# How to customize it"
   ]
  },
  {
   "cell_type": "code",
   "execution_count": 21,
   "id": "c14c91ac-2ae8-47f0-b1ea-475693139312",
   "metadata": {},
   "outputs": [
    {
     "name": "stderr",
     "output_type": "stream",
     "text": [
      "/var/folders/lx/t6qp34dx07s89w02jy02_f8c0000gp/T/ipykernel_35844/2272916476.py:8: DeprecationWarning: Call to deprecated class method from_defaults. (ServiceContext is deprecated, please use `llama_index.settings.Settings` instead.) -- Deprecated since version 0.10.0.\n",
      "  service_context = ServiceContext.from_defaults(llm=llm, chunk_size=500, chunk_overlap=50)\n"
     ]
    }
   ],
   "source": [
    "from llama_index.core import ServiceContext, set_global_service_context\n",
    "from llama_index.llms.openai import OpenAI\n",
    "\n",
    "# define LLM\n",
    "llm = OpenAI(temperature=0.1, model=\"gpt-3.5-turbo\", max_tokens=512)\n",
    "\n",
    "# configure service context\n",
    "service_context = ServiceContext.from_defaults(llm=llm, chunk_size=500, chunk_overlap=50)\n",
    "\n",
    "# set_global_service_context\n",
    "index = VectorStoreIndex.from_documents(documents, service_context=service_context)"
   ]
  },
  {
   "cell_type": "code",
   "execution_count": 22,
   "id": "4e09efff-4811-4b1f-aa89-f50bb1c72e0c",
   "metadata": {},
   "outputs": [
    {
     "name": "stdout",
     "output_type": "stream",
     "text": [
      "The paper is about a study on attention mechanisms in neural networks, specifically focusing on the behavior of attention heads in the encoder self-attention at layer 5 of 6. The study examines how different attention heads learn to perform various tasks related to sentence structure, such as anaphora resolution."
     ]
    }
   ],
   "source": [
    "query_engine = index.as_query_engine(streaming=True)\n",
    "response = query_engine.query(\"What is the paper about ?\")\n",
    "response.print_response_stream()"
   ]
  },
  {
   "cell_type": "code",
   "execution_count": null,
   "id": "a3862317-c9fe-4a3e-af25-d46f548ffb7b",
   "metadata": {},
   "outputs": [],
   "source": []
  }
 ],
 "metadata": {
  "kernelspec": {
   "display_name": "Python 3 (ipykernel)",
   "language": "python",
   "name": "python3"
  },
  "language_info": {
   "codemirror_mode": {
    "name": "ipython",
    "version": 3
   },
   "file_extension": ".py",
   "mimetype": "text/x-python",
   "name": "python",
   "nbconvert_exporter": "python",
   "pygments_lexer": "ipython3",
   "version": "3.12.3"
  }
 },
 "nbformat": 4,
 "nbformat_minor": 5
}
